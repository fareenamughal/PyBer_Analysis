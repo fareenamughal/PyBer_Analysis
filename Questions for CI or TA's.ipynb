{
 "cells": [
  {
   "cell_type": "code",
   "execution_count": null,
   "id": "5610dfe1",
   "metadata": {},
   "outputs": [],
   "source": [
    "# Refactor the code we used to create a scatter plot above, but instead of using a for loop to create the list y_axis_larger for the size parameter of the marker - Use Phthon;s list comprehension techinque\n",
    "# You can use list comprehension to replace many for and while loops. \n",
    "# new_list = [expression for item in list if conditional]\n",
    "plt.scatter(x_axis, y_axis, s=[i*3 for i in y_axis])"
   ]
  },
  {
   "cell_type": "code",
   "execution_count": null,
   "id": "fb17b43c",
   "metadata": {},
   "outputs": [],
   "source": [
    "# How to add a limit for x axis\n",
    "\n",
    "# Create a Bubble Chart Using the Object-Oriented Interface\n",
    "fig, ax = plt.subplots()\n",
    "ax.scatter(y_axis, x_axis, linewidth=2, color=\"skyblue\", s=[i*3 for i in y_axis], label=\"Boston\", alpha=0.50, edgecolor=\"black\")\n",
    "ax.invert_yaxis()\n",
    "ax.set_title(\"PyBer Fare by Month\")\n",
    "ax.legend()\n",
    "# Make the color 50% transparent.\n",
    "# alpha=0.5\n",
    "# Add a black edge color to the circles.\n",
    "# edgecolor = \"black\"\n",
    "# Make the linewidth of the circles 2 points.\n",
    "# linewidth=2\n",
    "# add a limit for the x axis"
   ]
  },
  {
   "cell_type": "code",
   "execution_count": null,
   "id": "cd804f7c",
   "metadata": {},
   "outputs": [],
   "source": [
    "# Get the quartile values ????\n",
    "quartile = statistics.quartile(y_axis)\n",
    "quartile"
   ]
  },
  {
   "cell_type": "code",
   "execution_count": null,
   "id": "33563dce",
   "metadata": {},
   "outputs": [],
   "source": [
    "# Add error bars in a dataframe - "
   ]
  },
  {
   "cell_type": "code",
   "execution_count": null,
   "id": "d55ab12e",
   "metadata": {},
   "outputs": [],
   "source": []
  }
 ],
 "metadata": {
  "kernelspec": {
   "display_name": "PythonData",
   "language": "python",
   "name": "pythondata"
  },
  "language_info": {
   "codemirror_mode": {
    "name": "ipython",
    "version": 3
   },
   "file_extension": ".py",
   "mimetype": "text/x-python",
   "name": "python",
   "nbconvert_exporter": "python",
   "pygments_lexer": "ipython3",
   "version": "3.9.12"
  }
 },
 "nbformat": 4,
 "nbformat_minor": 5
}
